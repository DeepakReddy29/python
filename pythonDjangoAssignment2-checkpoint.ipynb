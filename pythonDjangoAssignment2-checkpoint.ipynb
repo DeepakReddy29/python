{
 "cells": [
  {
   "cell_type": "markdown",
   "id": "ff99618d",
   "metadata": {},
   "source": [
    "### Q1.Write a program to print all the natural numbers from 1 to n (user input). Then print the same in reverse order."
   ]
  },
  {
   "cell_type": "code",
   "execution_count": 7,
   "id": "416de39c",
   "metadata": {},
   "outputs": [
    {
     "name": "stdout",
     "output_type": "stream",
     "text": [
      "enter a number10\n",
      "1 2 3 4 5 6 7 8 9 10 \n",
      " reverse order is: \n",
      "10 9 8 7 6 5 4 3 2 1 "
     ]
    }
   ],
   "source": [
    "n=int(input(\"enter a number\"))\n",
    "for i in range(1,n+1):\n",
    "    print(i,end=\" \")\n",
    "print()\n",
    "print(\" reverse order is: \")\n",
    "for i in range(n,0,-1):\n",
    "    print(i,end=\" \")\n"
   ]
  },
  {
   "cell_type": "markdown",
   "id": "72d3ff6b",
   "metadata": {},
   "source": [
    "### Q2. Print all odd numbers and even numbers between 1 to 100."
   ]
  },
  {
   "cell_type": "code",
   "execution_count": 12,
   "id": "4a5fad4b",
   "metadata": {},
   "outputs": [
    {
     "name": "stdout",
     "output_type": "stream",
     "text": [
      "enter number up to which you want to print :100\n",
      "even number are:\n",
      "2 4 6 8 10 12 14 16 18 20 22 24 26 28 30 32 34 36 38 40 42 44 46 48 50 52 54 56 58 60 62 64 66 68 70 72 74 76 78 80 82 84 86 88 90 92 94 96 98 100 \n",
      "\n",
      "odd numbers are\n",
      "1 3 5 7 9 11 13 15 17 19 21 23 25 27 29 31 33 35 37 39 41 43 45 47 49 51 53 55 57 59 61 63 65 67 69 71 73 75 77 79 81 83 85 87 89 91 93 95 97 99 "
     ]
    }
   ],
   "source": [
    "n=int(input(\"enter number up to which you want to print :\"))\n",
    "print(\"even number are:\")\n",
    "i=2\n",
    "while(i<=n):\n",
    "    print(i,end=\" \")\n",
    "    i+=2\n",
    "print(\"\\n\")\n",
    "print(\"odd numbers are\")\n",
    "c=1\n",
    "while(c<=n):\n",
    "    print(c,end=\" \")\n",
    "    c+=2"
   ]
  },
  {
   "cell_type": "markdown",
   "id": "c43d2fe2",
   "metadata": {},
   "source": [
    "### Q3. Write a program to check if a number is prime or not. Example: 7 ==> True, 6 ==> False\n"
   ]
  },
  {
   "cell_type": "code",
   "execution_count": 48,
   "id": "49f2027d",
   "metadata": {},
   "outputs": [
    {
     "name": "stdout",
     "output_type": "stream",
     "text": [
      "enter the number17\n",
      "true its prime\n"
     ]
    }
   ],
   "source": [
    "n=int(input(\"enter the number\"))\n",
    "for i in range(2,n):\n",
    "    if n%i==0:\n",
    "        print(\"false-its not prime\")\n",
    "        break\n",
    "else:\n",
    "    print(\"true its prime\")"
   ]
  },
  {
   "cell_type": "markdown",
   "id": "6221735e",
   "metadata": {},
   "source": [
    "#### Q4. Write a program that asks the user for a number n and prints the sum of the numbers 1 to n such that only multiples of three or five are considered in the sum, e.g. 3, 5, 6, 9, 10, 12, 15 for n=17.\n"
   ]
  },
  {
   "cell_type": "code",
   "execution_count": 18,
   "id": "3ef7fcfc",
   "metadata": {},
   "outputs": [
    {
     "name": "stdout",
     "output_type": "stream",
     "text": [
      "enter a number17\n",
      "[3, 5, 6, 9, 10, 12, 15]\n",
      "sum is  60\n"
     ]
    }
   ],
   "source": [
    "sum=[]\n",
    "n=int(input(\"enter a number\"))\n",
    "k=1\n",
    "while k <= n:\n",
    "    if k % 3 == 0:\n",
    "        sum.append(k)\n",
    "    elif k % 5 == 0:\n",
    "        sum.append(k)\n",
    "    k+=1\n",
    "print(sum)\n",
    "sums = 0\n",
    "for i in sum:\n",
    "    sums=sums+i\n",
    "print(\"sum is \",sums)\n",
    "    "
   ]
  },
  {
   "cell_type": "markdown",
   "id": "57c3e5ca",
   "metadata": {},
   "source": [
    "#### Q5. Write a program that asks the user for a number n and gives them the possibility to choose between computing the sum and computing the product of 1,…,n."
   ]
  },
  {
   "cell_type": "code",
   "execution_count": 42,
   "id": "79b1b244",
   "metadata": {},
   "outputs": [
    {
     "name": "stdout",
     "output_type": "stream",
     "text": [
      "enter a number :7\n",
      "enter 1 for sum and 2 for product2\n",
      "product is 5040\n"
     ]
    }
   ],
   "source": [
    "n=int(input(\"enter a number :\"))\n",
    "c=int(input(\"enter 1 for sum and 2 for product\"))\n",
    "def cal_sum():\n",
    "    sum=0\n",
    "    for i in range(1,n+1):\n",
    "        sum+=i\n",
    "    print(\"sum is \",sum)\n",
    "def cal_product():\n",
    "    product=1\n",
    "    for i in range(1,n+1):\n",
    "        product=product*(i)\n",
    "    print(\"product is\",product)\n",
    "if(c==1):\n",
    "    cal_sum()\n",
    "elif(c==2):\n",
    "    cal_product()\n",
    "else:\n",
    "    print(\"enter a valid choice\")\n",
    "    "
   ]
  },
  {
   "cell_type": "markdown",
   "id": "b6f73ea5",
   "metadata": {},
   "source": [
    "#### Q6. Find the sum of all the multiples of 3 or 5 below 1000.\n"
   ]
  },
  {
   "cell_type": "code",
   "execution_count": 27,
   "id": "8b850f43",
   "metadata": {},
   "outputs": [
    {
     "name": "stdout",
     "output_type": "stream",
     "text": [
      "sum is  233168\n"
     ]
    }
   ],
   "source": [
    "sum=[]\n",
    "k=1\n",
    "while k < 1000 :\n",
    "    if k % 3 == 0 or k % 5 == 0:\n",
    "        sum.append(k)\n",
    "    \n",
    "    k+=1\n",
    "#print(sum)\n",
    "sums = 0\n",
    "for i in sum:\n",
    "    sums=sums+i\n",
    "print(\"sum is \",sums)"
   ]
  },
  {
   "cell_type": "markdown",
   "id": "7abdafe6",
   "metadata": {},
   "source": [
    "#### 7. Write a program which will find all such numbers which are divisible by 7 but are not a multiple of 5, between 2000 and 3200 (both included)."
   ]
  },
  {
   "cell_type": "code",
   "execution_count": 32,
   "id": "43598ec6",
   "metadata": {},
   "outputs": [
    {
     "name": "stdout",
     "output_type": "stream",
     "text": [
      "divisible by 7 are: [2002, 2009, 2016, 2023, 2037, 2044, 2051, 2058, 2072, 2079, 2086, 2093, 2107, 2114, 2121, 2128, 2142, 2149, 2156, 2163, 2177, 2184, 2191, 2198, 2212, 2219, 2226, 2233, 2247, 2254, 2261, 2268, 2282, 2289, 2296, 2303, 2317, 2324, 2331, 2338, 2352, 2359, 2366, 2373, 2387, 2394, 2401, 2408, 2422, 2429, 2436, 2443, 2457, 2464, 2471, 2478, 2492, 2499, 2506, 2513, 2527, 2534, 2541, 2548, 2562, 2569, 2576, 2583, 2597, 2604, 2611, 2618, 2632, 2639, 2646, 2653, 2667, 2674, 2681, 2688, 2702, 2709, 2716, 2723, 2737, 2744, 2751, 2758, 2772, 2779, 2786, 2793, 2807, 2814, 2821, 2828, 2842, 2849, 2856, 2863, 2877, 2884, 2891, 2898, 2912, 2919, 2926, 2933, 2947, 2954, 2961, 2968, 2982, 2989, 2996, 3003, 3017, 3024, 3031, 3038, 3052, 3059, 3066, 3073, 3087, 3094, 3101, 3108, 3122, 3129, 3136, 3143, 3157, 3164, 3171, 3178, 3192, 3199]\n"
     ]
    }
   ],
   "source": [
    "numbers=[]\n",
    "a=2000\n",
    "while a >=2000 and a<=3200:\n",
    "    if a%7==0 and a%5!=0:\n",
    "        numbers.append(a)\n",
    "    a+=1\n",
    "print(\"divisible by 7 are:\",numbers)"
   ]
  },
  {
   "cell_type": "markdown",
   "id": "0f69374a",
   "metadata": {},
   "source": [
    "#### 8.Find the difference between the sum of the squares of the first one hundred natural numbers and the square of the sum."
   ]
  },
  {
   "cell_type": "code",
   "execution_count": 55,
   "id": "7ea45acc",
   "metadata": {},
   "outputs": [
    {
     "name": "stdout",
     "output_type": "stream",
     "text": [
      "enter a natural number100\n",
      "sum of sqares is: 338350\n",
      "Square of The Sum is: 25502500\n",
      "difference is : 25164150\n"
     ]
    }
   ],
   "source": [
    "n=int(input(\"enter a natural number :\"))\n",
    "sumofthesquares=0\n",
    "for i in range(n+1):\n",
    "    sumofthesquares=sumofthesquares+i*i\n",
    "print(\"sum of sqares is:\",sumofthesquares)\n",
    "\n",
    "squareofthesum=0\n",
    "c=0\n",
    "for i in range(n+1):\n",
    "    squareofthesum=(squareofthesum+i)\n",
    "    c=squareofthesum*squareofthesum\n",
    "print(\"Square of The Sum is:\",c)\n",
    "print(\"difference is :\",c-sumofthesquares)\n",
    "    \n",
    "\n",
    "\n",
    "    \n",
    "\n",
    "    "
   ]
  },
  {
   "cell_type": "markdown",
   "id": "a9e9e5f3",
   "metadata": {},
   "source": [
    "### Q9. Write a program which can compute the factorial of a given number.\n"
   ]
  },
  {
   "cell_type": "code",
   "execution_count": 66,
   "id": "35cf1920",
   "metadata": {},
   "outputs": [
    {
     "name": "stdout",
     "output_type": "stream",
     "text": [
      "enter a number5\n",
      "120\n"
     ]
    }
   ],
   "source": [
    "n=int(input(\"enter a number\"))\n",
    "def fact(a):\n",
    "    f=1\n",
    "    for i in range(1,n+1):\n",
    "        f=f*i\n",
    "    return f\n",
    "result=fact(n)\n",
    "print(result)\n",
    "    "
   ]
  },
  {
   "cell_type": "markdown",
   "id": "fbf83896",
   "metadata": {},
   "source": [
    "## 10.patterns"
   ]
  },
  {
   "cell_type": "code",
   "execution_count": 71,
   "id": "48cebf0a",
   "metadata": {},
   "outputs": [
    {
     "name": "stdout",
     "output_type": "stream",
     "text": [
      "# # # # # \n",
      "# # # # # \n",
      "# # # # # \n",
      "# # # # # \n",
      "# # # # # \n"
     ]
    }
   ],
   "source": [
    "n=5\n",
    "for i in range(n):\n",
    "    for j in range(n):\n",
    "        print(\"#\",end=\" \")\n",
    "    print()\n",
    "    "
   ]
  },
  {
   "cell_type": "code",
   "execution_count": 73,
   "id": "039b6b09",
   "metadata": {},
   "outputs": [
    {
     "name": "stdout",
     "output_type": "stream",
     "text": [
      "* \n",
      "* * \n",
      "* * * \n",
      "* * * * \n",
      "* * * * * \n"
     ]
    }
   ],
   "source": [
    "for i in range(5):\n",
    "    for j in range(i+1):\n",
    "        print(\"*\",end=\" \")\n",
    "    print()"
   ]
  },
  {
   "cell_type": "code",
   "execution_count": 78,
   "id": "1eb24314",
   "metadata": {},
   "outputs": [
    {
     "name": "stdout",
     "output_type": "stream",
     "text": [
      "* * * * \n",
      "* * * \n",
      "* * \n",
      "* \n"
     ]
    }
   ],
   "source": [
    "for i in range(4):\n",
    "    for j in range(4-i):\n",
    "        print(\"*\",end=\" \")\n",
    "    print()"
   ]
  },
  {
   "cell_type": "code",
   "execution_count": 90,
   "id": "c3ad90fc",
   "metadata": {},
   "outputs": [
    {
     "name": "stdout",
     "output_type": "stream",
     "text": [
      "5 5 5 5 5 \n",
      "5 4 4 4 5 \n",
      "5 4 3 4 5 \n",
      "5 4 4 4 5 \n",
      "5 5 5 5 5 \n"
     ]
    }
   ],
   "source": [
    "n=5\n",
    "for i in range(n):\n",
    "    for j in range(n):\n",
    "        print(max(max(i+1,j+1),max(n-i,n-j)),end=\" \")\n",
    "    print()"
   ]
  },
  {
   "cell_type": "code",
   "execution_count": 50,
   "id": "7efd3797",
   "metadata": {},
   "outputs": [
    {
     "name": "stdout",
     "output_type": "stream",
     "text": [
      "\n",
      "1 \n",
      "2 2 \n",
      "3 3 3 \n",
      "4 4 4 4 \n",
      "5 5 5 5 5 \n"
     ]
    }
   ],
   "source": [
    "n=5\n",
    "for i in range(n+1):\n",
    "    for j in range(i):\n",
    "        print(i,end=\" \")\n",
    "    print()"
   ]
  },
  {
   "cell_type": "markdown",
   "id": "2e885e17",
   "metadata": {},
   "source": [
    "### Q11. Write a program that computes the value of a+aa+aaa+aaaa with a given digit as the value of a. Suppose the following input is supplied to the program: 9, Then, the output should be: 9 + 99 + 999 + 9999 =  11106.\n"
   ]
  },
  {
   "cell_type": "code",
   "execution_count": 9,
   "id": "3831b2b7",
   "metadata": {},
   "outputs": [
    {
     "name": "stdout",
     "output_type": "stream",
     "text": [
      "Enter value: 9\n",
      "11106\n"
     ]
    }
   ],
   "source": [
    "value = input(\"Enter value: \")\n",
    "\n",
    "n1 = value * 1\n",
    "n2 = value * 2\n",
    "n3 = value * 3\n",
    "n4 = value * 4\n",
    "\n",
    "total = int(n1) + int(n2) + int(n3) + int(n4)\n",
    "print(total)\n"
   ]
  },
  {
   "cell_type": "markdown",
   "id": "d74a0542",
   "metadata": {},
   "source": [
    "### Q12. Find the length of a string using loops (not len()).\n"
   ]
  },
  {
   "cell_type": "code",
   "execution_count": 1,
   "id": "c96707d7",
   "metadata": {},
   "outputs": [
    {
     "name": "stdout",
     "output_type": "stream",
     "text": [
      "enter a srting Deepak\n",
      "6\n"
     ]
    }
   ],
   "source": [
    "n=input(\"enter a srting \")\n",
    "count=0\n",
    "for i in n:\n",
    "    count=count+1\n",
    "print(count)\n",
    "    "
   ]
  },
  {
   "cell_type": "markdown",
   "id": "e99270f6",
   "metadata": {},
   "source": [
    "#### Q13. Write a program that accepts a sentence (string) and calculate the number of letters and digits. Example: ‘this is a test sentence number 389’ ==> letters = 25 and digits = 3."
   ]
  },
  {
   "cell_type": "code",
   "execution_count": 6,
   "id": "374b4aec",
   "metadata": {},
   "outputs": [
    {
     "name": "stdout",
     "output_type": "stream",
     "text": [
      "enter a stringthis is a test sentence number 389\n",
      "no of digits are:  3\n",
      "no of letters are:  25\n"
     ]
    }
   ],
   "source": [
    "str = input(\"enter a string\")\n",
    "lcount=0\n",
    "dcount=0\n",
    "for i in str:\n",
    "    if i.isdigit():\n",
    "        dcount+=1\n",
    "    elif i.isalpha():\n",
    "        lcount+=1\n",
    "print(\"no of digits are: \",dcount)\n",
    "print(\"no of letters are: \",lcount)\n",
    "\n"
   ]
  },
  {
   "cell_type": "markdown",
   "id": "c9f2134e",
   "metadata": {},
   "source": [
    "#### Q14.  Write a program that accepts a string and outputs the string with all capital letters.Example: ‘hello’ ==> ‘HELLO’. (using loop)"
   ]
  },
  {
   "cell_type": "code",
   "execution_count": 22,
   "id": "c03a71a0",
   "metadata": {},
   "outputs": [
    {
     "name": "stdout",
     "output_type": "stream",
     "text": [
      "enter a string :hello\n",
      "HELLO\n"
     ]
    }
   ],
   "source": [
    "str=input(\"enter a string :\")\n",
    "s=\" \"\n",
    "for i in str:\n",
    "    s=str.upper()\n",
    "print(s)\n"
   ]
  },
  {
   "cell_type": "markdown",
   "id": "7282322e",
   "metadata": {},
   "source": [
    "#### Q15. Write a program that accepts a sentence and calculate the number of upper case letters and lower case letters."
   ]
  },
  {
   "cell_type": "code",
   "execution_count": 20,
   "id": "538ca9f2",
   "metadata": {},
   "outputs": [
    {
     "name": "stdout",
     "output_type": "stream",
     "text": [
      "enter a stringDEEPAK reddy\n",
      "upper case is: 6\n",
      "lower case is: 5\n"
     ]
    }
   ],
   "source": [
    "str=input(\"enter a string\")\n",
    "uc=0\n",
    "lc=0\n",
    "for i in str:\n",
    "    if i.isupper():\n",
    "        uc+=1\n",
    "    elif i.islower():\n",
    "        lc+=1\n",
    "print(\"upper case is:\",uc)\n",
    "print(\"lower case is:\",lc)\n",
    "        \n",
    "        "
   ]
  },
  {
   "cell_type": "markdown",
   "id": "4e28b5b2",
   "metadata": {},
   "source": [
    "### Q16. Write  a program that counts the occurrence of a character in a string. Example: ‘This is a test string.’ count of i = 3."
   ]
  },
  {
   "cell_type": "code",
   "execution_count": 10,
   "id": "c2f7703b",
   "metadata": {},
   "outputs": [
    {
     "name": "stdout",
     "output_type": "stream",
     "text": [
      "enter a string :This is a test string\n",
      "enter a character :i\n",
      "this char occurs   3  times\n"
     ]
    }
   ],
   "source": [
    "str=input(\"enter a string :\")\n",
    "c=input(\"enter a character :\")\n",
    "count=0\n",
    "for i in str:\n",
    "    if i in c:\n",
    "        count+=1\n",
    "print(\"this char occurs \",count,\" times\")\n",
    "\n"
   ]
  },
  {
   "cell_type": "markdown",
   "id": "2ae4030d",
   "metadata": {},
   "source": [
    "### Q17. Write a program to find if a given string is a palindrome or not."
   ]
  },
  {
   "cell_type": "code",
   "execution_count": 15,
   "id": "b7df20b1",
   "metadata": {},
   "outputs": [
    {
     "name": "stdout",
     "output_type": "stream",
     "text": [
      "enter a string :malayalam\n",
      "given string is palindrome\n"
     ]
    }
   ],
   "source": [
    "str=input(\"enter a string :\")\n",
    "rev=str[::-1]\n",
    "if str == rev:\n",
    "    print(\"given string is palindrome\")\n",
    "else:\n",
    "    print(\"given srting is not a palindrome\")"
   ]
  },
  {
   "cell_type": "markdown",
   "id": "2083dd87",
   "metadata": {},
   "source": [
    "### Q18. Write a program which accepts two strings s1 and s2 and checks if s2 is a substring of s1."
   ]
  },
  {
   "cell_type": "code",
   "execution_count": 22,
   "id": "88494908",
   "metadata": {},
   "outputs": [
    {
     "name": "stdout",
     "output_type": "stream",
     "text": [
      "enter 1st srting :python using django\n",
      "enter 2nd string :ing\n",
      "index that the sub string occurs is 9\n",
      "s2 is a substring of s1\n"
     ]
    }
   ],
   "source": [
    "str1=input(\"enter 1st srting :\")\n",
    "str2=input(\"enter 2nd string :\")\n",
    "print(\"index that the sub string occurs is\",str1.find(str2))\n",
    "if(str1.find(str2) == -1):\n",
    "    print(\"s2 is not  a sub string of s1\")\n",
    "else:\n",
    "    print(\"s2 is a substring of s1\")"
   ]
  },
  {
   "cell_type": "markdown",
   "id": "4b266f96",
   "metadata": {},
   "source": [
    "##### Q19. Make a password validator with the following checks. A website requires the users to input username and password to register. Write a program to check the validity of password input by users.\n",
    "\n",
    "    Following are the criteria for checking the password:\n",
    "1. At least  1 letter between [a-z]     \n",
    "2. At least 1 number between [0-9]     \n",
    "3. At least 1 letter between [@$#%&]"
   ]
  },
  {
   "cell_type": "code",
   "execution_count": 1,
   "id": "bbd95335",
   "metadata": {},
   "outputs": [
    {
     "name": "stdout",
     "output_type": "stream",
     "text": [
      "enter a use name :python\n",
      "enter a password :python@123\n",
      "password is valid\n"
     ]
    }
   ],
   "source": [
    "import re\n",
    "flag=0\n",
    "user=input(\"enter a useer name :\")\n",
    "passwd=input(\"enter a password :\")\n",
    "if not re.search('[a-z]',passwd):\n",
    "    flag = 1\n",
    "if not re.search('[0-9]',passwd):\n",
    "    flag = 1\n",
    "if not re.search('[@$#%&]',passwd):\n",
    "    flag = 1\n",
    "    \n",
    "if(flag == 0):\n",
    "    print(\"password is valid\")\n",
    "else:\n",
    "    print(\"password is invalid\")\n",
    "\n"
   ]
  },
  {
   "cell_type": "markdown",
   "id": "77df0a9a",
   "metadata": {},
   "source": [
    "#### Q20. s = \"Hello how are you all\". For this given string write a code such that it prints the vowels present in the string s if any. ex: \"i\", \"a\" etc. "
   ]
  },
  {
   "cell_type": "code",
   "execution_count": 26,
   "id": "6c1e497c",
   "metadata": {},
   "outputs": [
    {
     "name": "stdout",
     "output_type": "stream",
     "text": [
      "enter a string: python using django\n",
      "vowels are :  ouiao\n"
     ]
    }
   ],
   "source": [
    "str=input(\"enter a string: \")\n",
    "v=\" \"\n",
    "c='A','a','E','e','I','i','O','o','U','u'\n",
    "for i in str:\n",
    "    if i in c:\n",
    "        v+=i\n",
    "print(\"vowels are :\",v)\n",
    "              "
   ]
  }
 ],
 "metadata": {
  "kernelspec": {
   "display_name": "Python 3",
   "language": "python",
   "name": "python3"
  },
  "language_info": {
   "codemirror_mode": {
    "name": "ipython",
    "version": 3
   },
   "file_extension": ".py",
   "mimetype": "text/x-python",
   "name": "python",
   "nbconvert_exporter": "python",
   "pygments_lexer": "ipython3",
   "version": "3.9.5"
  }
 },
 "nbformat": 4,
 "nbformat_minor": 5
}
